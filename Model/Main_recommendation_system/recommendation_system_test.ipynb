{
 "metadata": {
  "language_info": {
   "codemirror_mode": {
    "name": "ipython",
    "version": 3
   },
   "file_extension": ".py",
   "mimetype": "text/x-python",
   "name": "python",
   "nbconvert_exporter": "python",
   "pygments_lexer": "ipython3",
   "version": "3.6.8-final"
  },
  "orig_nbformat": 2,
  "kernelspec": {
   "name": "python368jvsc74a57bd0ea4acf45d0fa9d7377d4ee5a205d2ece2bef292c3e7db4121dd056ac0970d15b",
   "display_name": "Python 3.6.8 64-bit ('ssac': conda)"
  }
 },
 "nbformat": 4,
 "nbformat_minor": 2,
 "cells": [
  {
   "cell_type": "code",
   "execution_count": 1,
   "metadata": {},
   "outputs": [],
   "source": [
    "import pandas as pd\n",
    "import numpy as np"
   ]
  },
  {
   "cell_type": "code",
   "execution_count": 2,
   "metadata": {},
   "outputs": [
    {
     "output_type": "execute_result",
     "data": {
      "text/plain": [
       "   Unnamed: 0           name  sweet  sour  tender  bitter  abundant\n",
       "0           0        산미구엘 맥주     13    61       8       8         2\n",
       "1           1  크로넨버그 1664 라거     42    14      22      16         7\n",
       "2           2  크로낸버그 1664 블랑      9    47      17      19         1\n",
       "3           3        1906 맥주      5    68       8      11         1\n",
       "4           4        뢰벤브로이맥주     21    35      14      17         2"
      ],
      "text/html": "<div>\n<style scoped>\n    .dataframe tbody tr th:only-of-type {\n        vertical-align: middle;\n    }\n\n    .dataframe tbody tr th {\n        vertical-align: top;\n    }\n\n    .dataframe thead th {\n        text-align: right;\n    }\n</style>\n<table border=\"1\" class=\"dataframe\">\n  <thead>\n    <tr style=\"text-align: right;\">\n      <th></th>\n      <th>Unnamed: 0</th>\n      <th>name</th>\n      <th>sweet</th>\n      <th>sour</th>\n      <th>tender</th>\n      <th>bitter</th>\n      <th>abundant</th>\n    </tr>\n  </thead>\n  <tbody>\n    <tr>\n      <th>0</th>\n      <td>0</td>\n      <td>산미구엘 맥주</td>\n      <td>13</td>\n      <td>61</td>\n      <td>8</td>\n      <td>8</td>\n      <td>2</td>\n    </tr>\n    <tr>\n      <th>1</th>\n      <td>1</td>\n      <td>크로넨버그 1664 라거</td>\n      <td>42</td>\n      <td>14</td>\n      <td>22</td>\n      <td>16</td>\n      <td>7</td>\n    </tr>\n    <tr>\n      <th>2</th>\n      <td>2</td>\n      <td>크로낸버그 1664 블랑</td>\n      <td>9</td>\n      <td>47</td>\n      <td>17</td>\n      <td>19</td>\n      <td>1</td>\n    </tr>\n    <tr>\n      <th>3</th>\n      <td>3</td>\n      <td>1906 맥주</td>\n      <td>5</td>\n      <td>68</td>\n      <td>8</td>\n      <td>11</td>\n      <td>1</td>\n    </tr>\n    <tr>\n      <th>4</th>\n      <td>4</td>\n      <td>뢰벤브로이맥주</td>\n      <td>21</td>\n      <td>35</td>\n      <td>14</td>\n      <td>17</td>\n      <td>2</td>\n    </tr>\n  </tbody>\n</table>\n</div>"
     },
     "metadata": {},
     "execution_count": 2
    }
   ],
   "source": [
    "# 맥주 데이터를 DataFrame 형식으로 load\n",
    "beer_df = pd.read_csv('data-files/sample.csv')\n",
    "beer_df.head()"
   ]
  },
  {
   "cell_type": "code",
   "execution_count": 3,
   "metadata": {},
   "outputs": [],
   "source": [
    "# 특정 맥주의 index 입력(세 개)\n",
    "beers = [25, 12, 7]"
   ]
  },
  {
   "cell_type": "code",
   "execution_count": 4,
   "metadata": {},
   "outputs": [
    {
     "output_type": "execute_result",
     "data": {
      "text/plain": [
       "(129, 129)"
      ]
     },
     "metadata": {},
     "execution_count": 4
    }
   ],
   "source": [
    "# Cosine Similarity load\n",
    "taste_sim = np.load('outputs/taste_sim.npy')\n",
    "taste_sim.shape"
   ]
  },
  {
   "cell_type": "code",
   "execution_count": 5,
   "metadata": {
    "tags": []
   },
   "outputs": [],
   "source": [
    "# 추천 시스템을 활용하여 추출한 맥주 index를 저장할 리스트 생성\n",
    "sim_beers = []\n",
    "\n",
    "# 사용자가 선택한 세 개의 맥주 index를 저장하는 리스트 생성\n",
    "beer_indexes = []\n",
    "for beer in beers:\n",
    "    beer_indexes.append(beer)\n",
    "    # 유사도에 따라 상위 10개의 모델을 추출\n",
    "    sim1 = taste_sim[beer] \n",
    "    top = np.argsort(sim1)[::-1][:11]\n",
    "\n",
    "    # 추출한 index에서 자신이 포함되어 있는지 확인\n",
    "    index_one = np.where(top==beer)[0][0]\n",
    "    top = np.delete(top, index_one)\n",
    "    limit_add_beer = 0\n",
    "    # 추출된 index 하나하나 추출하여 검사\n",
    "    for sim_beer in top:\n",
    "        # 추출된 index에서 사용자가 선택한 맥주가 포함되는지 확인하고, 있다면 다음 index 확인\n",
    "        if sim_beer in beer_indexes:\n",
    "            continue\n",
    "        # 추출된 index에서 현재까지의 추천 시스템 리스트에 포함된 것이 있는지 확인하고, 있다면 다음 index 확인\n",
    "        elif sim_beer in sim_beers:\n",
    "            continue\n",
    "        # 아닐 경우 추천 리스트에 포함시키고, 3개를 추천하면 다음 추출 or 끝내기\n",
    "        else:\n",
    "            sim_beers.append(sim_beer)\n",
    "            limit_add_beer += 1\n",
    "            if limit_add_beer == 3:\n",
    "                break\n",
    "                \n"
   ]
  },
  {
   "cell_type": "code",
   "execution_count": 6,
   "metadata": {},
   "outputs": [
    {
     "output_type": "execute_result",
     "data": {
      "text/plain": [
       "    Unnamed: 0        name  sweet  sour  tender  bitter  abundant\n",
       "25          25  밸라스트포인트칼리코     30     0      20      30        20\n",
       "12          12     몬티스섬머에일     63     3      24      19        22\n",
       "7            7      에페스 맥주     13    34      21      41        16"
      ],
      "text/html": "<div>\n<style scoped>\n    .dataframe tbody tr th:only-of-type {\n        vertical-align: middle;\n    }\n\n    .dataframe tbody tr th {\n        vertical-align: top;\n    }\n\n    .dataframe thead th {\n        text-align: right;\n    }\n</style>\n<table border=\"1\" class=\"dataframe\">\n  <thead>\n    <tr style=\"text-align: right;\">\n      <th></th>\n      <th>Unnamed: 0</th>\n      <th>name</th>\n      <th>sweet</th>\n      <th>sour</th>\n      <th>tender</th>\n      <th>bitter</th>\n      <th>abundant</th>\n    </tr>\n  </thead>\n  <tbody>\n    <tr>\n      <th>25</th>\n      <td>25</td>\n      <td>밸라스트포인트칼리코</td>\n      <td>30</td>\n      <td>0</td>\n      <td>20</td>\n      <td>30</td>\n      <td>20</td>\n    </tr>\n    <tr>\n      <th>12</th>\n      <td>12</td>\n      <td>몬티스섬머에일</td>\n      <td>63</td>\n      <td>3</td>\n      <td>24</td>\n      <td>19</td>\n      <td>22</td>\n    </tr>\n    <tr>\n      <th>7</th>\n      <td>7</td>\n      <td>에페스 맥주</td>\n      <td>13</td>\n      <td>34</td>\n      <td>21</td>\n      <td>41</td>\n      <td>16</td>\n    </tr>\n  </tbody>\n</table>\n</div>"
     },
     "metadata": {},
     "execution_count": 6
    }
   ],
   "source": [
    "# 사용자가 선택한 맥주 리스트\n",
    "beer_df.iloc[beer_indexes,]"
   ]
  },
  {
   "cell_type": "code",
   "execution_count": 8,
   "metadata": {},
   "outputs": [
    {
     "output_type": "execute_result",
     "data": {
      "text/plain": [
       "[11, 73, 81, 115, 80, 63, 5, 59, 31]"
      ]
     },
     "metadata": {},
     "execution_count": 8
    }
   ],
   "source": [
    "sim_beers"
   ]
  },
  {
   "cell_type": "code",
   "execution_count": 10,
   "metadata": {},
   "outputs": [],
   "source": [
    "from beer_recommendation import beer_recommendation\n",
    "\n",
    "beer_re = beer_recommendation()\n",
    "recommended_beers = beer_re.find_sim_beer(beer_df, taste_sim, beers)"
   ]
  },
  {
   "cell_type": "code",
   "execution_count": 11,
   "metadata": {},
   "outputs": [
    {
     "output_type": "execute_result",
     "data": {
      "text/plain": [
       "     Unnamed: 0         name  sweet  sour  tender  bitter  abundant\n",
       "11           11        마레드수스     39     4      27      34        16\n",
       "73           73    에딩거 바이스비어     33     4      30      31        12\n",
       "81           81    호가든 포비든프룻     43     4      22      24        18\n",
       "115         115      그림버겐클래식     46     4      17      20        10\n",
       "80           80     호가든 그랑크루     40     2      22      20        14\n",
       "63           63     호가든 오리지날     40     2      22      20        14\n",
       "5             5  밀러 제뉴인 드래프트     18    30      21      20         4\n",
       "59           59       벨틴스 맥주     21    26      21      20         3\n",
       "31           31         벡스다크     19    36       0      43         0"
      ],
      "text/html": "<div>\n<style scoped>\n    .dataframe tbody tr th:only-of-type {\n        vertical-align: middle;\n    }\n\n    .dataframe tbody tr th {\n        vertical-align: top;\n    }\n\n    .dataframe thead th {\n        text-align: right;\n    }\n</style>\n<table border=\"1\" class=\"dataframe\">\n  <thead>\n    <tr style=\"text-align: right;\">\n      <th></th>\n      <th>Unnamed: 0</th>\n      <th>name</th>\n      <th>sweet</th>\n      <th>sour</th>\n      <th>tender</th>\n      <th>bitter</th>\n      <th>abundant</th>\n    </tr>\n  </thead>\n  <tbody>\n    <tr>\n      <th>11</th>\n      <td>11</td>\n      <td>마레드수스</td>\n      <td>39</td>\n      <td>4</td>\n      <td>27</td>\n      <td>34</td>\n      <td>16</td>\n    </tr>\n    <tr>\n      <th>73</th>\n      <td>73</td>\n      <td>에딩거 바이스비어</td>\n      <td>33</td>\n      <td>4</td>\n      <td>30</td>\n      <td>31</td>\n      <td>12</td>\n    </tr>\n    <tr>\n      <th>81</th>\n      <td>81</td>\n      <td>호가든 포비든프룻</td>\n      <td>43</td>\n      <td>4</td>\n      <td>22</td>\n      <td>24</td>\n      <td>18</td>\n    </tr>\n    <tr>\n      <th>115</th>\n      <td>115</td>\n      <td>그림버겐클래식</td>\n      <td>46</td>\n      <td>4</td>\n      <td>17</td>\n      <td>20</td>\n      <td>10</td>\n    </tr>\n    <tr>\n      <th>80</th>\n      <td>80</td>\n      <td>호가든 그랑크루</td>\n      <td>40</td>\n      <td>2</td>\n      <td>22</td>\n      <td>20</td>\n      <td>14</td>\n    </tr>\n    <tr>\n      <th>63</th>\n      <td>63</td>\n      <td>호가든 오리지날</td>\n      <td>40</td>\n      <td>2</td>\n      <td>22</td>\n      <td>20</td>\n      <td>14</td>\n    </tr>\n    <tr>\n      <th>5</th>\n      <td>5</td>\n      <td>밀러 제뉴인 드래프트</td>\n      <td>18</td>\n      <td>30</td>\n      <td>21</td>\n      <td>20</td>\n      <td>4</td>\n    </tr>\n    <tr>\n      <th>59</th>\n      <td>59</td>\n      <td>벨틴스 맥주</td>\n      <td>21</td>\n      <td>26</td>\n      <td>21</td>\n      <td>20</td>\n      <td>3</td>\n    </tr>\n    <tr>\n      <th>31</th>\n      <td>31</td>\n      <td>벡스다크</td>\n      <td>19</td>\n      <td>36</td>\n      <td>0</td>\n      <td>43</td>\n      <td>0</td>\n    </tr>\n  </tbody>\n</table>\n</div>"
     },
     "metadata": {},
     "execution_count": 11
    }
   ],
   "source": [
    "beer_df.iloc[recommended_beers,]"
   ]
  },
  {
   "cell_type": "code",
   "execution_count": 12,
   "metadata": {},
   "outputs": [
    {
     "output_type": "execute_result",
     "data": {
      "text/plain": [
       "    Unnamed: 0        name  sweet  sour  tender  bitter  abundant\n",
       "25          25  밸라스트포인트칼리코     30     0      20      30        20\n",
       "12          12     몬티스섬머에일     63     3      24      19        22\n",
       "7            7      에페스 맥주     13    34      21      41        16"
      ],
      "text/html": "<div>\n<style scoped>\n    .dataframe tbody tr th:only-of-type {\n        vertical-align: middle;\n    }\n\n    .dataframe tbody tr th {\n        vertical-align: top;\n    }\n\n    .dataframe thead th {\n        text-align: right;\n    }\n</style>\n<table border=\"1\" class=\"dataframe\">\n  <thead>\n    <tr style=\"text-align: right;\">\n      <th></th>\n      <th>Unnamed: 0</th>\n      <th>name</th>\n      <th>sweet</th>\n      <th>sour</th>\n      <th>tender</th>\n      <th>bitter</th>\n      <th>abundant</th>\n    </tr>\n  </thead>\n  <tbody>\n    <tr>\n      <th>25</th>\n      <td>25</td>\n      <td>밸라스트포인트칼리코</td>\n      <td>30</td>\n      <td>0</td>\n      <td>20</td>\n      <td>30</td>\n      <td>20</td>\n    </tr>\n    <tr>\n      <th>12</th>\n      <td>12</td>\n      <td>몬티스섬머에일</td>\n      <td>63</td>\n      <td>3</td>\n      <td>24</td>\n      <td>19</td>\n      <td>22</td>\n    </tr>\n    <tr>\n      <th>7</th>\n      <td>7</td>\n      <td>에페스 맥주</td>\n      <td>13</td>\n      <td>34</td>\n      <td>21</td>\n      <td>41</td>\n      <td>16</td>\n    </tr>\n  </tbody>\n</table>\n</div>"
     },
     "metadata": {},
     "execution_count": 12
    }
   ],
   "source": [
    "beer_df.iloc[beers,]"
   ]
  },
  {
   "cell_type": "code",
   "execution_count": null,
   "metadata": {},
   "outputs": [],
   "source": []
  }
 ]
}